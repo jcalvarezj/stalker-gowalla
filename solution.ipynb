{
 "cells": [
  {
   "cell_type": "markdown",
   "metadata": {},
   "source": [
    "# Solution to the \"Stalker Challenge\" - By Juan C. Alvarez\n",
    "\n",
    "## Problem Statement\n",
    "\n",
    "Use the dataset here: https://snap.stanford.edu/data/loc-gowalla.html\n",
    "\n",
    "* Assume a \"stalker\" is someone who, in this dataset, visits some of the same locations as another person, after the other person goes to that location.\n",
    "* A \"stalker score\" for a pair of people, A & B, is the number of locations for which A has visited a location followed by B visiting that same location in the\n",
    "future.\n",
    "* Any given location should be counted once in the score, so a stalker score can never be higher than the number of unique locations that A and B have\n",
    "in common.\n",
    "\n",
    "Use the datasets from the web page above to answer the following questions:\n",
    "\n",
    "1. Which friend pair has the highest \"stalker score\"?\n",
    "2. Which non-friend pair has the highest \"stalker score\"?\n",
    "\n",
    "You can use any tools you want to solve this puzzle, except asking for help from other people. Please feel free to email at any time for any clarifications.\n",
    "\n",
    "Please give the winning user id pairs and “stalker score” for each question, and please explain your solution methods, including any source code if you wrote any.\n",
    "\n",
    "**Ps. We give points for \"pure\" solutions, so no additional libraries. The more complex the additional libraries are the more points we deduct**"
   ]
  },
  {
   "cell_type": "markdown",
   "metadata": {},
   "source": [
    "## 1. Data Exploration\n",
    "\n",
    "For starters, we will obtain, uncompress, explore, and describe the contents of the data files:"
   ]
  },
  {
   "cell_type": "code",
   "execution_count": 31,
   "metadata": {},
   "outputs": [],
   "source": [
    "DATA_FOLDER = './data/'\n",
    "EDGES_URL = 'https://snap.stanford.edu/data/loc-gowalla_edges.txt.gz'\n",
    "EDGES_COMP_FILE = 'loc-gowalla_edges.txt.gz'\n",
    "EDGES_FILE = 'loc-gowalla_edges.txt'\n",
    "CHECKINS_URL = 'https://snap.stanford.edu/data/loc-gowalla_totalCheckins.txt.gz'\n",
    "CHECKINS_COMP_FILE = 'loc-gowalla_totalCheckins.txt.gz'\n",
    "CHECKINS_FILE = 'loc-gowalla_totalCheckins.txt'\n",
    "\n",
    "TEST_FOLDER = './data/'\n",
    "TEST_EDGES_FILE = 'edgestest.txt'\n",
    "TEST_CHECKINS_FILE = 'checkinstest.txt'"
   ]
  },
  {
   "cell_type": "code",
   "execution_count": 4,
   "metadata": {},
   "outputs": [
    {
     "name": "stdout",
     "output_type": "stream",
     "text": [
      "Obtaining edges file\n",
      "Will not apply HSTS. The HSTS database must be a regular and non-world-writable file.\n",
      "ERROR: could not open HSTS store at '/home/jcalvarezj/.wget-hsts'. HSTS will be disabled.\n",
      "--2021-02-25 16:40:26--  https://snap.stanford.edu/data/loc-gowalla_edges.txt.gz\n",
      "Resolving snap.stanford.edu (snap.stanford.edu)... 171.64.75.80\n",
      "Connecting to snap.stanford.edu (snap.stanford.edu)|171.64.75.80|:443... connected.\n",
      "HTTP request sent, awaiting response... 200 OK\n",
      "Length: 6351523 (6.1M) [application/x-gzip]\n",
      "Saving to: ‘./data/loc-gowalla_edges.txt.gz’\n",
      "\n",
      "loc-gowalla_edges.t 100%[===================>]   6.06M   775KB/s    in 9.0s    \n",
      "\n",
      "2021-02-25 16:40:35 (686 KB/s) - ‘./data/loc-gowalla_edges.txt.gz’ saved [6351523/6351523]\n",
      "\n"
     ]
    }
   ],
   "source": [
    "!echo 'Obtaining edges file'\n",
    "!wget $EDGES_URL -P $DATA_FOLDER"
   ]
  },
  {
   "cell_type": "code",
   "execution_count": 5,
   "metadata": {},
   "outputs": [
    {
     "name": "stdout",
     "output_type": "stream",
     "text": [
      "Obtaining Check-ins file\n",
      "Will not apply HSTS. The HSTS database must be a regular and non-world-writable file.\n",
      "ERROR: could not open HSTS store at '/home/jcalvarezj/.wget-hsts'. HSTS will be disabled.\n",
      "--2021-02-25 16:40:36--  https://snap.stanford.edu/data/loc-gowalla_totalCheckins.txt.gz\n",
      "Resolving snap.stanford.edu (snap.stanford.edu)... 171.64.75.80\n",
      "Connecting to snap.stanford.edu (snap.stanford.edu)|171.64.75.80|:443... connected.\n",
      "HTTP request sent, awaiting response... 200 OK\n",
      "Length: 105470044 (101M) [application/x-gzip]\n",
      "Saving to: ‘./data/loc-gowalla_totalCheckins.txt.gz’\n",
      "\n",
      "loc-gowalla_totalCh 100%[===================>] 100.58M   902KB/s    in 59s     \n",
      "\n",
      "2021-02-25 16:41:35 (1.72 MB/s) - ‘./data/loc-gowalla_totalCheckins.txt.gz’ saved [105470044/105470044]\n",
      "\n"
     ]
    }
   ],
   "source": [
    "!echo 'Obtaining Check-ins file'\n",
    "!wget $CHECKINS_URL -P $DATA_FOLDER"
   ]
  },
  {
   "cell_type": "code",
   "execution_count": 6,
   "metadata": {},
   "outputs": [
    {
     "name": "stdout",
     "output_type": "stream",
     "text": [
      "Uncompressing both files\n",
      "./data/loc-gowalla_edges.txt.gz:\t 71.3% -- replaced with ./data/loc-gowalla_edges.txt\n",
      "./data/loc-gowalla_totalCheckins.txt.gz:\t 73.3% -- replaced with ./data/loc-gowalla_totalCheckins.txt\n"
     ]
    }
   ],
   "source": [
    "!echo 'Uncompressing both files'\n",
    "!gzip -dkv {DATA_FOLDER + EDGES_COMP_FILE}\n",
    "!gzip -dkv {DATA_FOLDER + CHECKINS_COMP_FILE}"
   ]
  },
  {
   "cell_type": "code",
   "execution_count": 7,
   "metadata": {},
   "outputs": [
    {
     "name": "stdout",
     "output_type": "stream",
     "text": [
      "0\t1\n",
      "0\t2\n",
      "0\t3\n",
      "0\t4\n",
      "0\t5\n",
      "0\t6\n",
      "0\t7\n",
      "0\t8\n",
      "0\t9\n",
      "0\t10\n",
      "0\t11\n",
      "0\t12\n",
      "0\t13\n",
      "0\t14\n",
      "0\t15\n",
      "0\t16\n",
      "0\t17\n",
      "0\t18\n",
      "0\t19\n",
      "0\t20\n",
      "-----------------------------------------------\n",
      "0\t2010-10-19T23:55:27Z\t30.2359091167\t-97.7951395833\t22847\n",
      "0\t2010-10-18T22:17:43Z\t30.2691029532\t-97.7493953705\t420315\n",
      "0\t2010-10-17T23:42:03Z\t30.2557309927\t-97.7633857727\t316637\n",
      "0\t2010-10-17T19:26:05Z\t30.2634181234\t-97.7575966669\t16516\n",
      "0\t2010-10-16T18:50:42Z\t30.2742918584\t-97.7405226231\t5535878\n",
      "0\t2010-10-12T23:58:03Z\t30.261599404\t-97.7585805953\t15372\n",
      "0\t2010-10-12T22:02:11Z\t30.2679095833\t-97.7493124167\t21714\n",
      "0\t2010-10-12T19:44:40Z\t30.2691029532\t-97.7493953705\t420315\n",
      "0\t2010-10-12T15:57:20Z\t30.2811204101\t-97.7452111244\t153505\n",
      "0\t2010-10-12T15:19:03Z\t30.2691029532\t-97.7493953705\t420315\n",
      "0\t2010-10-12T00:21:28Z\t40.6438845363\t-73.7828063965\t23261\n",
      "0\t2010-10-11T20:21:20Z\t40.74137425\t-73.9881052167\t16907\n",
      "0\t2010-10-11T20:20:42Z\t40.741388197\t-73.9894545078\t12973\n",
      "0\t2010-10-11T00:06:30Z\t40.7249103345\t-73.9946207517\t341255\n",
      "0\t2010-10-10T22:00:37Z\t40.729768314\t-73.9985353275\t260957\n",
      "0\t2010-10-10T21:17:14Z\t40.7285271242\t-73.9968681335\t1933724\n",
      "0\t2010-10-10T17:47:04Z\t40.7417466987\t-73.993421425\t105068\n",
      "0\t2010-10-09T23:51:10Z\t40.7341933833\t-74.0041635333\t34817\n",
      "0\t2010-10-09T22:27:07Z\t40.7425115937\t-74.0060305595\t27836\n",
      "0\t2010-10-09T21:39:26Z\t40.7423961659\t-74.0075433254\t15079\n"
     ]
    }
   ],
   "source": [
    "!head -n20 {DATA_FOLDER + EDGES_FILE}\n",
    "!echo '-----------------------------------------------'\n",
    "!head -n20 {DATA_FOLDER + CHECKINS_FILE}"
   ]
  },
  {
   "cell_type": "markdown",
   "metadata": {},
   "source": [
    "The data seems to be correct and has the following format:\n",
    "\n",
    "- Edges file: userId (int) and friendId (int), separated by tabs\n",
    "- Check-Ins file: userId (int), check-in time (ISO timestamp at Zero timezone), latitude (float), longitude (float), and locationId (int). All separated by tabs\n",
    "\n",
    "To easily handle timestamps, the \"Z\" suffix will be converted to \"+00:00\" at the moment of loading"
   ]
  },
  {
   "cell_type": "markdown",
   "metadata": {},
   "source": [
    "## 2. Data Structures\n",
    "\n",
    "Adjacency list graphs will be implemented and used to solve the problem. The idea here is to create a graph to keep track of the associations among stalkers and also of their visited places, and another graph to keep track of friendship associations (to easily query at the moment of answering to the second question)\n",
    "\n",
    "The graphs have the following structure:\n",
    "\n",
    "- A dictionary of associations (friends or stalkers). For example:\n",
    "\n",
    "`associations = {\n",
    "    <node1>: [<list of associated nodes>],\n",
    "    ...,\n",
    "    <nodeN>: [<list of associated nodes>]\n",
    "}`\n",
    "\n",
    "- A dictionary of \"weights\" for edges. This structure will be used to represent edges as pairs of nodes in the form of a tuple, which refer to stalker associations. ('a', 'b') means 'a' is stalked by 'b'. The values there pairs are mapped to are sets of visited locations (chose sets to count only once every visited location)\n",
    "\n",
    "`weights = {\n",
    "    <pair of nodes 1>: {<set of weights>},\n",
    "    ...,\n",
    "    <pair of nodes M>: {<set of weights>}\n",
    "}`\n",
    "\n",
    "Here weights will refer to the place that both people visited (for the graph of stalkers). As a set to include each only once"
   ]
  },
  {
   "cell_type": "code",
   "execution_count": 15,
   "metadata": {},
   "outputs": [],
   "source": [
    "class Graph:\n",
    "    \"\"\"\n",
    "    This class represents the associations between people\n",
    "    \"\"\"\n",
    "    def __init__(self):\n",
    "        \"\"\"\n",
    "        Constructor initializer\n",
    "        \"\"\"\n",
    "        self.relations = {}\n",
    "        self.weights = {}\n",
    "\n",
    "    def add_relation(self, start_node, end_node):\n",
    "        \"\"\"\n",
    "        Adds a relation between two nodes\n",
    "        \"\"\"\n",
    "        if not self.relations.get(start_node):\n",
    "            self.relations[start_node] = {end_node}\n",
    "        else:\n",
    "            self.relations[start_node].add(end_node)\n",
    "\n",
    "    def add_weight(self, start_node, end_node, weight):\n",
    "        \"\"\"\n",
    "        Adds a weight for a couple of nodes' association\n",
    "        \"\"\"\n",
    "        pair = start_node, end_node\n",
    "        if not self.weights.get(pair):\n",
    "            self.weights[pair] = {weight}\n",
    "        else:\n",
    "            self.weights[pair].add(weight)\n",
    "\n",
    "    def __str__(self):\n",
    "        return f'Graph with nodes:\\n{self.relations}\\nAnd weights:\\n{self.weights}'\n",
    "        "
   ]
  },
  {
   "cell_type": "markdown",
   "metadata": {},
   "source": [
    "As each line of the edges file represents one associaion between two people, at the time of reading each line input is split respectively in order to be added to the friendships graph"
   ]
  },
  {
   "cell_type": "code",
   "execution_count": 47,
   "metadata": {
    "tags": []
   },
   "outputs": [],
   "source": [
    "def read_friendship_graph(friends_file):\n",
    "    \"\"\"\n",
    "    Reads the edges (friendships) file and returns a graph with the associations\n",
    "    \"\"\"\n",
    "    friendship_graph = Graph()\n",
    "\n",
    "    with open(friends_file) as edges:\n",
    "        for line in edges:\n",
    "            user, friend = line.split('\\t')\n",
    "            user = int(user)\n",
    "            friend = int(friend.replace('\\n', ''))\n",
    "            friendship_graph.add_relation(user, friend)\n",
    "\n",
    "    return friendship_graph"
   ]
  },
  {
   "cell_type": "markdown",
   "metadata": {},
   "source": [
    "As records are read from the checkins file, the following steps are performed:\n",
    "\n",
    "1. A dictionary will contain a list of visits per location id. This will serve as a comparison point for each record. \n",
    "\n",
    "2. The comparison with other recorded visits in the same location id will be added to the stalker graph accordingly (higher timestamp equals being the stalker). For simplicity, only the weights structure will be used"
   ]
  },
  {
   "cell_type": "code",
   "execution_count": 43,
   "metadata": {},
   "outputs": [
    {
     "name": "stdout",
     "output_type": "stream",
     "text": [
      "Graph with nodes:\n",
      "{}\n",
      "And weights:\n",
      "{(1, 2): {1, 6}, (1, 3): {2}, (2, 3): {4}, (2, 1): {5}, (2, 4): {3}}\n"
     ]
    }
   ],
   "source": [
    "from datetime import datetime\n",
    "\n",
    "def read_stalkers_graph(checkins_file):\n",
    "    \"\"\"\n",
    "    Reads the check-ins file and returns a graph with the associations between people\n",
    "    that mean stalking (weighted as a list of involved location ids)\n",
    "    \"\"\"\n",
    "    stalkers_graph = Graph()\n",
    "    visit_records = {}\n",
    "\n",
    "    with open(checkins_file) as checkins:\n",
    "        for line in checkins:\n",
    "            user_id, checkin_time, _, _, location_id = line.split('\\t')\n",
    "            user_id = int(user_id)\n",
    "            checkin_time = checkin_time.replace('Z', '+00:00')\n",
    "            location_id = int(location_id.replace('\\n', ''))\n",
    "\n",
    "            new_visit = (user_id, checkin_time)\n",
    "\n",
    "            if not visit_records.get(location_id):\n",
    "                visit_records[location_id] = [new_visit]\n",
    "            else:\n",
    "                for visit in visit_records[location_id]:\n",
    "                    if new_visit[1] < visit[1]:\n",
    "                        stalkers_graph.add_weight(new_visit[0], visit[0], location_id)\n",
    "                    else:\n",
    "                        stalkers_graph.add_weight(visit[0], new_visit[0], location_id)\n",
    "                \n",
    "                visit_records[location_id].append(new_visit)\n",
    "\n",
    "    return stalkers_graph"
   ]
  },
  {
   "cell_type": "markdown",
   "metadata": {},
   "source": [
    "## 3. Answering questions\n",
    "\n",
    "### 1. Which friend pair has the highest \"stalker score\"?"
   ]
  },
  {
   "cell_type": "code",
   "execution_count": 49,
   "metadata": {},
   "outputs": [
    {
     "name": "stdout",
     "output_type": "stream",
     "text": [
      "((1, 3), 1)\n"
     ]
    }
   ],
   "source": [
    "def compute_most_stalking_friend():\n",
    "    \"\"\"\n",
    "    Answers the second question by calculating which stalker pair has the highest score\n",
    "    for a pair of people who are not friends to each other\n",
    "    \"\"\"\n",
    "    highest_friend_stalker = (None, 0)\n",
    "    stalkers_graph = read_stalkers_graph(f'{DATA_FOLDER}{CHECKINS_FILE}')\n",
    "    friendship_graph = read_friendship_graph(f'{DATA_FOLDER}{EDGES_FILE}')\n",
    "    stalking_dict = stalkers_graph.weights\n",
    "\n",
    "    for pair, locations in stalking_dict.items():\n",
    "        stalking_score = len(locations)\n",
    "\n",
    "        if stalking_score > highest_friend_stalker[1] and pair[0] in friendship_graph.relations[pair[1]]:\n",
    "            highest_friend_stalker = (pair, stalking_score)\n",
    "\n",
    "    return highest_friend_stalker\n",
    "\n",
    "print(compute_most_stalking_friend())"
   ]
  },
  {
   "cell_type": "markdown",
   "metadata": {},
   "source": [
    "This means that the pair of people (friends) with highest stalking score is (1, 3) for 1 locations"
   ]
  },
  {
   "cell_type": "markdown",
   "metadata": {},
   "source": [
    "### 2. Which non-friend pair has the highest \"stalker score\"?"
   ]
  },
  {
   "cell_type": "code",
   "execution_count": 52,
   "metadata": {},
   "outputs": [
    {
     "name": "stdout",
     "output_type": "stream",
     "text": [
      "((1, 2), 2)\n"
     ]
    }
   ],
   "source": [
    "def compute_most_stalking_nonfriend():\n",
    "    \"\"\"\n",
    "    Answers the second question by calculating which stalker pair has the highest score\n",
    "    for a pair of people who are not friends to each other\n",
    "    \"\"\"\n",
    "    stalkers_graph = read_stalkers_graph(f'{DATA_FOLDER}{CHECKINS_FILE}')\n",
    "    friendship_graph = read_friendship_graph(f'{DATA_FOLDER}{EDGES_FILE}')\n",
    "\n",
    "    highest_nonfriend_stalker = (None, 0)\n",
    "    stalking_dict = stalkers_graph.weights\n",
    "\n",
    "    for pair, locations in stalking_dict.items():\n",
    "        stalking_score = len(locations)\n",
    "\n",
    "        if stalking_score > highest_nonfriend_stalker[1] and pair[0] not in friendship_graph.relations[pair[1]]:\n",
    "            highest_nonfriend_stalker = (pair, stalking_score)\n",
    "\n",
    "    return highest_nonfriend_stalker\n",
    "\n",
    "print(compute_most_stalking_nonfriend())"
   ]
  },
  {
   "cell_type": "markdown",
   "metadata": {},
   "source": [
    "This means that the pair of people (not friends) with highest stalking score is (1, 2) for 2 locations"
   ]
  },
  {
   "cell_type": "markdown",
   "metadata": {},
   "source": [
    "## \\[Extra\\]. Unit tests\n",
    "\n",
    "Testing against the input on the test directory. It's expected to have the following associations from the files:\n",
    "\n",
    "Stalking Graph with Pairs **(user_id_i, user_id_j): {location_id_1, ..., location_id_N}**\n",
    "\n",
    "> (1, 2): {1, 6}  \n",
    "> (1, 3): {2}  \n",
    "> (2, 3): {4}  \n",
    "> (2, 4): {3}  \n",
    "> (2, 1): {5}  \n",
    "\n",
    "Friendship Graph with elements **user_id_i: {user_id_j, ..., user_id_M}**\n",
    "\n",
    "> 1: {3}  \n",
    "> 2: {4}  \n",
    "> 3: {1}  \n",
    "> 4: {2}  "
   ]
  },
  {
   "cell_type": "code",
   "execution_count": 53,
   "metadata": {},
   "outputs": [
    {
     "name": "stderr",
     "output_type": "stream",
     "text": [
      "....\n",
      "----------------------------------------------------------------------\n",
      "Ran 4 tests in 0.020s\n",
      "\n",
      "OK\n"
     ]
    },
    {
     "data": {
      "text/plain": [
       "<unittest.main.TestProgram at 0x7fa96c896040>"
      ]
     },
     "execution_count": 53,
     "metadata": {},
     "output_type": "execute_result"
    }
   ],
   "source": [
    "import unittest\n",
    "\n",
    "class SolutionTest(unittest.TestCase):\n",
    "    \"\"\"\n",
    "    Class to execute unit tests of the solution from test cases at './test'\n",
    "    \"\"\"\n",
    "    def setUp(self):\n",
    "        \"\"\"\n",
    "        Unit test initialization\n",
    "        \"\"\"\n",
    "        self.friends_graph = Graph()\n",
    "        self.friends_graph.add_relation(1, 3)\n",
    "        self.friends_graph.add_relation(2, 4)\n",
    "        self.friends_graph.add_relation(3, 1)\n",
    "        self.friends_graph.add_relation(4, 2)\n",
    "\n",
    "        self.stalkers_graph = Graph()\n",
    "        self.stalkers_graph.add_weight(1, 2, 1)\n",
    "        self.stalkers_graph.add_weight(1, 2, 6)\n",
    "        self.stalkers_graph.add_weight(1, 3, 2)\n",
    "        self.stalkers_graph.add_weight(2, 3, 4)\n",
    "        self.stalkers_graph.add_weight(2, 4, 3)\n",
    "        self.stalkers_graph.add_weight(2, 1, 5)\n",
    "\n",
    "        self.highest_stalker_friend = ((1, 3), 1)\n",
    "        self.highest_stalker_nonfriend = ((1, 2), 2)\n",
    "\n",
    "    def tearDown(self):\n",
    "        \"\"\"\n",
    "        Unit test clean-up\n",
    "        \"\"\"\n",
    "        del(self.friends_graph)\n",
    "        del(self.stalkers_graph)\n",
    "\n",
    "    def test_compute_friends_graph(self):\n",
    "        \"\"\"\n",
    "        Test for the read_friendship_graph(...) method\n",
    "        \"\"\"\n",
    "        computed_friends_graph = read_friendship_graph(f'{TEST_FOLDER}{TEST_EDGES_FILE}')\n",
    "        self.assertEqual(self.friends_graph.relations, computed_friends_graph.relations)\n",
    "\n",
    "    def test_compute_stalkers_graph(self):\n",
    "        \"\"\"\n",
    "        Test for the read_stalkers_graph(...) method\n",
    "        \"\"\"\n",
    "        computed_stalkers_graph = read_stalkers_graph(f'{TEST_FOLDER}{TEST_CHECKINS_FILE}')\n",
    "        self.assertEqual(self.stalkers_graph.weights, computed_stalkers_graph.weights)\n",
    "\n",
    "    def test_compute_most_stalking_friend(self):\n",
    "        \"\"\"\n",
    "        Test for the compute_most_stalking_friend(...) method\n",
    "        \"\"\"\n",
    "        computed_highest_stalker_friend = compute_most_stalking_friend()\n",
    "        self.assertEqual(self.highest_stalker_friend, computed_highest_stalker_friend)\n",
    "\n",
    "    def test_compute_most_stalking_nonfriend(self):\n",
    "        \"\"\"\n",
    "        Test for the read_friendship_graph(...) method\n",
    "        \"\"\"\n",
    "        computed_highest_stalker_nonfriend = compute_most_stalking_nonfriend()\n",
    "        self.assertEqual(self.highest_stalker_nonfriend, computed_highest_stalker_nonfriend)\n",
    "\n",
    "\n",
    "unittest.main(argv=[''], exit=False)"
   ]
  }
 ],
 "metadata": {
  "kernelspec": {
   "display_name": "Python 3",
   "language": "python",
   "name": "python3"
  },
  "language_info": {
   "codemirror_mode": {
    "name": "ipython",
    "version": 3
   },
   "file_extension": ".py",
   "mimetype": "text/x-python",
   "name": "python",
   "nbconvert_exporter": "python",
   "pygments_lexer": "ipython3",
   "version": "3.7.6"
  }
 },
 "nbformat": 4,
 "nbformat_minor": 2
}
