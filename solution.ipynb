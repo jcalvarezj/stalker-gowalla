{
 "metadata": {
  "language_info": {
   "codemirror_mode": {
    "name": "ipython",
    "version": 3
   },
   "file_extension": ".py",
   "mimetype": "text/x-python",
   "name": "python",
   "nbconvert_exporter": "python",
   "pygments_lexer": "ipython3",
   "version": "3.8.8-final"
  },
  "orig_nbformat": 2,
  "kernelspec": {
   "name": "python3",
   "display_name": "Python 3.8.8 64-bit ('venv': venv)",
   "metadata": {
    "interpreter": {
     "hash": "2803fa919b7acb0cb84dc572305947ac5a3ccc761fb80ae915136c83aa3dba30"
    }
   }
  }
 },
 "nbformat": 4,
 "nbformat_minor": 2,
 "cells": [
  {
   "source": [
    "# Solution to the \"Stalker Challenge\" - By Juan C. Alvarez\n",
    "\n",
    "**Notice:** This solution uses the _dataclass_ annotation, so Python version >= 3.7 is required\n",
    "\n",
    "## Problem Statement\n",
    "\n",
    "Use the dataset here: https://snap.stanford.edu/data/loc-gowalla.html\n",
    "\n",
    "* Assume a \"stalker\" is someone who, in this dataset, visits some of the same locations as another person, after the other person goes to that location.\n",
    "* A \"stalker score\" for a pair of people, A & B, is the number of locations for which A has visited a location followed by B visiting that same location in the\n",
    "future.\n",
    "* Any given location should be counted once in the score, so a stalker score can never be higher than the number of unique locations that A and B have\n",
    "in common.\n",
    "\n",
    "Use the datasets from the web page above to answer the following questions:\n",
    "\n",
    "1. Which friend pair has the highest \"stalker score\"?\n",
    "2. Which non-friend pair has the highest \"stalker score\"?\n",
    "\n",
    "You can use any tools you want to solve this puzzle, except asking for help from other people. Please feel free to email at any time for any clarifications.\n",
    "\n",
    "Please give the winning user id pairs and “stalker score” for each question, and please explain your solution methods, including any source code if you wrote any.\n",
    "\n",
    "**Ps. We give points for \"pure\" solutions, so no additional libraries. The more complex the additional libraries are the more points we deduct**"
   ],
   "cell_type": "markdown",
   "metadata": {}
  },
  {
   "source": [
    "## 1. Data Exploration\n",
    "\n",
    "For starters, we will obtain, uncompress, explore, and describe the contents of the data files:"
   ],
   "cell_type": "markdown",
   "metadata": {}
  },
  {
   "cell_type": "code",
   "execution_count": 1,
   "metadata": {},
   "outputs": [],
   "source": [
    "DATA_FOLDER = './data/'\n",
    "EDGES_URL = 'https://snap.stanford.edu/data/loc-gowalla_edges.txt.gz'\n",
    "EDGES_COMP_FILE = 'loc-gowalla_edges.txt.gz'\n",
    "EDGES_FILE = 'loc-gowalla_edges.txt'\n",
    "CHECKINS_URL = 'https://snap.stanford.edu/data/loc-gowalla_totalCheckins.txt.gz'\n",
    "CHECKINS_COMP_FILE = 'loc-gowalla_totalCheckins.txt.gz'\n",
    "CHECKINS_FILE = 'loc-gowalla_totalCheckins.txt'"
   ]
  },
  {
   "cell_type": "code",
   "execution_count": 7,
   "metadata": {},
   "outputs": [
    {
     "output_type": "stream",
     "name": "stdout",
     "text": [
      "Obtaining edges file\n",
      "Will not apply HSTS. The HSTS database must be a regular and non-world-writable file.\n",
      "ERROR: could not open HSTS store at '/home/jcalvarezj/.wget-hsts'. HSTS will be disabled.\n",
      "--2021-02-24 18:15:44--  https://snap.stanford.edu/data/loc-gowalla_edges.txt.gz\n",
      "Resolving snap.stanford.edu (snap.stanford.edu)... 171.64.75.80\n",
      "Connecting to snap.stanford.edu (snap.stanford.edu)|171.64.75.80|:443... connected.\n",
      "HTTP request sent, awaiting response... 200 OK\n",
      "Length: 6351523 (6.1M) [application/x-gzip]\n",
      "Saving to: ‘./data/loc-gowalla_edges.txt.gz’\n",
      "\n",
      "loc-gowalla_edges.t 100%[===================>]   6.06M  1.14MB/s    in 7.5s    \n",
      "\n",
      "2021-02-24 18:15:52 (827 KB/s) - ‘./data/loc-gowalla_edges.txt.gz’ saved [6351523/6351523]\n",
      "\n"
     ]
    }
   ],
   "source": [
    "!echo 'Obtaining edges file'\n",
    "!wget $EDGES_URL -P $DATA_FOLDER"
   ]
  },
  {
   "cell_type": "code",
   "execution_count": 8,
   "metadata": {},
   "outputs": [
    {
     "output_type": "stream",
     "name": "stdout",
     "text": [
      "Obtaining Check-ins file\n",
      "Will not apply HSTS. The HSTS database must be a regular and non-world-writable file.\n",
      "ERROR: could not open HSTS store at '/home/jcalvarezj/.wget-hsts'. HSTS will be disabled.\n",
      "--2021-02-24 18:15:55--  https://snap.stanford.edu/data/loc-gowalla_totalCheckins.txt.gz\n",
      "Resolving snap.stanford.edu (snap.stanford.edu)... 171.64.75.80\n",
      "Connecting to snap.stanford.edu (snap.stanford.edu)|171.64.75.80|:443... connected.\n",
      "HTTP request sent, awaiting response... 200 OK\n",
      "Length: 105470044 (101M) [application/x-gzip]\n",
      "Saving to: ‘./data/loc-gowalla_totalCheckins.txt.gz’\n",
      "\n",
      "loc-gowalla_totalCh 100%[===================>] 100.58M  2.35MB/s    in 53s     \n",
      "\n",
      "2021-02-24 18:16:49 (1.89 MB/s) - ‘./data/loc-gowalla_totalCheckins.txt.gz’ saved [105470044/105470044]\n",
      "\n"
     ]
    }
   ],
   "source": [
    "!echo 'Obtaining Check-ins file'\n",
    "!wget $CHECKINS_URL -P $DATA_FOLDER"
   ]
  },
  {
   "cell_type": "code",
   "execution_count": 10,
   "metadata": {},
   "outputs": [
    {
     "output_type": "stream",
     "name": "stdout",
     "text": [
      "Uncompressing both files\n",
      "./data/loc-gowalla_edges.txt.gz:\t 71.3% -- replaced with ./data/loc-gowalla_edges.txt\n",
      "./data/loc-gowalla_totalCheckins.txt.gz:\t 73.3% -- replaced with ./data/loc-gowalla_totalCheckins.txt\n"
     ]
    }
   ],
   "source": [
    "!echo 'Uncompressing both files'\n",
    "!gzip -dkv {DATA_FOLDER + EDGES_COMP_FILE}\n",
    "!gzip -dkv {DATA_FOLDER + CHECKINS_COMP_FILE}"
   ]
  },
  {
   "cell_type": "code",
   "execution_count": 11,
   "metadata": {},
   "outputs": [
    {
     "output_type": "stream",
     "name": "stdout",
     "text": [
      "0\t1\n",
      "0\t2\n",
      "0\t3\n",
      "0\t4\n",
      "0\t5\n",
      "0\t6\n",
      "0\t7\n",
      "0\t8\n",
      "0\t9\n",
      "0\t10\n",
      "0\t11\n",
      "0\t12\n",
      "0\t13\n",
      "0\t14\n",
      "0\t15\n",
      "0\t16\n",
      "0\t17\n",
      "0\t18\n",
      "0\t19\n",
      "0\t20\n",
      "-----------------------------------------------\n",
      "0\t2010-10-19T23:55:27Z\t30.2359091167\t-97.7951395833\t22847\n",
      "0\t2010-10-18T22:17:43Z\t30.2691029532\t-97.7493953705\t420315\n",
      "0\t2010-10-17T23:42:03Z\t30.2557309927\t-97.7633857727\t316637\n",
      "0\t2010-10-17T19:26:05Z\t30.2634181234\t-97.7575966669\t16516\n",
      "0\t2010-10-16T18:50:42Z\t30.2742918584\t-97.7405226231\t5535878\n",
      "0\t2010-10-12T23:58:03Z\t30.261599404\t-97.7585805953\t15372\n",
      "0\t2010-10-12T22:02:11Z\t30.2679095833\t-97.7493124167\t21714\n",
      "0\t2010-10-12T19:44:40Z\t30.2691029532\t-97.7493953705\t420315\n",
      "0\t2010-10-12T15:57:20Z\t30.2811204101\t-97.7452111244\t153505\n",
      "0\t2010-10-12T15:19:03Z\t30.2691029532\t-97.7493953705\t420315\n",
      "0\t2010-10-12T00:21:28Z\t40.6438845363\t-73.7828063965\t23261\n",
      "0\t2010-10-11T20:21:20Z\t40.74137425\t-73.9881052167\t16907\n",
      "0\t2010-10-11T20:20:42Z\t40.741388197\t-73.9894545078\t12973\n",
      "0\t2010-10-11T00:06:30Z\t40.7249103345\t-73.9946207517\t341255\n",
      "0\t2010-10-10T22:00:37Z\t40.729768314\t-73.9985353275\t260957\n",
      "0\t2010-10-10T21:17:14Z\t40.7285271242\t-73.9968681335\t1933724\n",
      "0\t2010-10-10T17:47:04Z\t40.7417466987\t-73.993421425\t105068\n",
      "0\t2010-10-09T23:51:10Z\t40.7341933833\t-74.0041635333\t34817\n",
      "0\t2010-10-09T22:27:07Z\t40.7425115937\t-74.0060305595\t27836\n",
      "0\t2010-10-09T21:39:26Z\t40.7423961659\t-74.0075433254\t15079\n"
     ]
    }
   ],
   "source": [
    "!head -n20 {DATA_FOLDER + EDGES_FILE}\n",
    "!echo '-----------------------------------------------'\n",
    "!head -n20 {DATA_FOLDER + CHECKINS_FILE}"
   ]
  },
  {
   "source": [
    "The data seems to be correct and has the following format:\n",
    "\n",
    "- Edges file: userId (int) and friendId (int), separated by tabs\n",
    "- Check-Ins file: userId (int), check-in time (ISO timestamp at Zero timezone), latitude (float), longitude (float), and locationId (int). All separated by tabs\n",
    "\n",
    "To easily handle timestamps, the \"Z\" suffix will be converted to \"+00:00\" at the moment of loading"
   ],
   "cell_type": "markdown",
   "metadata": {}
  },
  {
   "source": [
    "## 2. Data Structures\n",
    "\n",
    "Adjacency list graphs will be implemented and used to solve the problem. The idea here is to create a graph to keep track of the associations among stalkers and also of their visited places, and another graph to keep track of friendship associations (to easily query at the moment of answering to the second question)\n",
    "\n",
    "The graphs have the following structure:\n",
    "\n",
    "- A dictionary of associations. For example:\n",
    "\n",
    "`associations = {\n",
    "    <node1>: [<list of associated nodes>],\n",
    "    ...,\n",
    "    <nodeN>: [<list of associated nodes>]\n",
    "}`\n",
    "\n",
    "- A dictionary of weights for edges. Edges are pairs of nodes represented as a set as {a, b} == {b, a} (for it is an undirected graph)\n",
    "\n",
    "`weights = {\n",
    "    <pair of nodes (set) 1>: [<set of weights>],\n",
    "    ...,\n",
    "    <pair of nodes (set) M>: [<set of weights>]\n",
    "}`\n",
    "\n",
    "Here weights will mean the place that both people visited. As a set to include each only once"
   ],
   "cell_type": "markdown",
   "metadata": {}
  },
  {
   "cell_type": "code",
   "execution_count": 45,
   "metadata": {},
   "outputs": [],
   "source": [
    "from datetime import datetime\n",
    "from dataclasses import dataclass\n",
    "from collections import defaultdict\n",
    "\n",
    "@dataclass\n",
    "class CheckinRecord:\n",
    "    \"\"\"\n",
    "    This class represents a Ckeck-In record from the dataset\n",
    "    \"\"\"\n",
    "    user_id: int\n",
    "    checkin_time: datetime\n",
    "    latitude: float\n",
    "    longitude: float\n",
    "    location_id: int\n",
    "\n",
    "\n",
    "class Graph:\n",
    "    \"\"\"\n",
    "    This class represents the relations between people\n",
    "    \"\"\"\n",
    "\n",
    "    def __init__(self):\n",
    "        \"\"\"\n",
    "        Constructor initializer\n",
    "        \"\"\"\n",
    "        self.relations = {}\n",
    "        self.weights = {}\n",
    "\n",
    "    def add_relation(self, start_node, end_node):\n",
    "        \"\"\"\n",
    "        Adds a relation between two nodes\n",
    "        \"\"\"\n",
    "        if not self.relations.get(start_node):\n",
    "            self.relations[start_node] = {end_node}\n",
    "        else:\n",
    "            self.relations[start_node].add(end_node)\n",
    "\n",
    "    def add_weight(self, start_node, end_node, weight):\n",
    "        \"\"\"\n",
    "        Adds a weight relating to a couple of nodes\n",
    "        \"\"\"\n",
    "        pair = {start_node, end_node}\n",
    "        if not self.weights.get(pair):\n",
    "            self.weights[pair] = {weight}\n",
    "        else:\n",
    "            self.weights[pair].add(weight)\n",
    "\n",
    "    def __str__(self):\n",
    "        return f'Graph with nodes:\\n{self.relations}\\nAnd weights:\\n{self.weights}'\n",
    "        "
   ]
  },
  {
   "source": [
    "As each line of the edges file represents one associaion between two people, at the time of reading each line input is split respectively in order to be added to the friendships graph"
   ],
   "cell_type": "markdown",
   "metadata": {}
  },
  {
   "cell_type": "code",
   "execution_count": 48,
   "metadata": {},
   "outputs": [
    {
     "output_type": "stream",
     "name": "stdout",
     "text": [
      "Graph with nodes:\n{'0': {'16', '8', '15', '12', '3', '9', '19', '13', '18', '14', '5', '7', '4', '20', '2', '10', '6', '17', '1', '11'}}\nAnd weights:\n{}\n"
     ]
    }
   ],
   "source": [
    "friendship_graph = Graph()\n",
    "\n",
    "with open(f'{DATA_FOLDER}{EDGES_FILE}') as edges:\n",
    "    lines = [next(edges) for x in range(20)]\n",
    "\n",
    "    for l in lines:\n",
    "        user, friend = l.split('\\t')\n",
    "        friend = friend.replace('\\n', '')\n",
    "        friendship_graph.add_relation(user, friend)\n",
    "\n",
    "    print(friendship_graph)\n"
   ]
  }
 ]
}